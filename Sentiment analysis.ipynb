{
 "cells": [
  {
   "cell_type": "code",
   "execution_count": 38,
   "metadata": {},
   "outputs": [],
   "source": [
    "import csv\n",
    "import pandas\n",
    "import matplotlib.pyplot as plt\n",
    "from snownlp import SnowNLP\n",
    "import numpy as np"
   ]
  },
  {
   "cell_type": "code",
   "execution_count": 39,
   "metadata": {},
   "outputs": [
    {
     "name": "stdout",
     "output_type": "stream",
     "text": [
      "/opt/anaconda3/bin/python\n"
     ]
    }
   ],
   "source": [
    "import sys\n",
    "print(sys.executable)"
   ]
  },
  {
   "cell_type": "code",
   "execution_count": 42,
   "metadata": {},
   "outputs": [],
   "source": [
    "def nlp():\n",
    "    f = open('barrage.csv','r',encoding='utf-8')\n",
    "    #f = open('barrage1.csv','r',encoding='utf-8')\n",
    "    #f = open('barrage2.csv','r',encoding='utf-8')\n",
    "    \n",
    "    c = csv.reader(f)\n",
    "    dataList = [i for i in c]\n",
    "    f.close()\n",
    "    print('the first 10 rows:')\n",
    "    print(dataList[:10])\n",
    "    print('Start drawing sentiment analysis histogram to visualize the distribution of scores')\n",
    "    sentences = []\n",
    "    senti_score = []\n",
    "    for data in dataList:\n",
    "        a1 = SnowNLP(data[0])\n",
    "        a2 = a1.sentiments\n",
    "        sentences.append(data[0])  # word order...\n",
    "        senti_score.append(a2)  # cultilate the score\n",
    "        \n",
    "    print('Data read successfully!')\n",
    "    np.mean(senti_score) #mean value\n",
    "    print(np.mean(senti_score))\n",
    "    \n",
    "    plt.figure(2) \n",
    "    plt.hist(senti_score, bins=np.arange(0.0,1.1,0.01))  # draw histogram\n",
    "   # plt.xticks([(i/10.0) for i in range(0,11)])\n",
    "    plt.title('Sentiment analysis-Overall')  # title\n",
    "    plt.xlabel('Scores')  # X\n",
    "    plt.ylabel('Quantity')  # Y\n",
    "    plt.savefig(\"Sentiment analysis-Overall.png\")  # save the result\n",
    "    plt.show()\n",
    "    print('visualization success!')"
   ]
  },
  {
   "cell_type": "code",
   "execution_count": 43,
   "metadata": {},
   "outputs": [
    {
     "name": "stdout",
     "output_type": "stream",
     "text": [
      "the first 10 rows:\n",
      "[['\\ufeff我隔着屏幕都感受到了他的幸福', ''], ['卧槽，绞肉机', ''], ['好可爱哈哈哈哈哈', ''], ['我想啃他桌板', ''], ['看他那望着炸鸡不怀好意的眼神，突然觉得有些不妙', ''], ['弹幕突然出现了一群柠檬精', ''], ['我想盘他！！', ''], ['某位阎小姐默默的放下手中的烧鸭腿，点开了美团.......', ''], ['这一餐，有八只鸡失去了梦想', ''], ['emm，我收回我的不屑一顾，怀里的烧鸭腿突然就不香了', '']]\n",
      "Start drawing sentiment analysis histogram to visualize the distribution of scores\n",
      "Data read successfully!\n",
      "0.5701622516656696\n"
     ]
    },
    {
     "data": {
      "image/png": "[encoded data removed]",
      "text/plain": [
       "<Figure size 432x288 with 1 Axes>"
      ]
     },
     "metadata": {
      "needs_background": "light"
     },
     "output_type": "display_data"
    },
    {
     "name": "stdout",
     "output_type": "stream",
     "text": [
      "visualization success!\n"
     ]
    }
   ],
   "source": [
    "nlp()"
   ]
  },
  {
   "cell_type": "code",
   "execution_count": null,
   "metadata": {},
   "outputs": [],
   "source": []
  }
 ],
 "metadata": {
  "kernelspec": {
   "display_name": "Python 3",
   "language": "python",
   "name": "python3"
  },
  "language_info": {
   "codemirror_mode": {
    "name": "ipython",
    "version": 3
   },
   "file_extension": ".py",
   "mimetype": "text/x-python",
   "name": "python",
   "nbconvert_exporter": "python",
   "pygments_lexer": "ipython3",
   "version": "3.8.3"
  }
 },
 "nbformat": 4,
 "nbformat_minor": 4
}
